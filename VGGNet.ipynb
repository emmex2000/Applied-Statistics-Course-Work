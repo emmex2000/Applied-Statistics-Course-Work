{
  "cells": [
    {
      "cell_type": "markdown",
      "metadata": {
        "id": "view-in-github",
        "colab_type": "text"
      },
      "source": [
        "<a href=\"https://colab.research.google.com/github/emmex2000/Applied-Statistics-Course-Work/blob/main/VGGNet.ipynb\" target=\"_parent\"><img src=\"https://colab.research.google.com/assets/colab-badge.svg\" alt=\"Open In Colab\"/></a>"
      ]
    },
    {
      "cell_type": "code",
      "execution_count": null,
      "metadata": {
        "id": "0StUUB6iIkgV",
        "colab": {
          "base_uri": "https://localhost:8080/"
        },
        "outputId": "d1ad0a7d-c2d9-4f54-8196-f4e9b90f1554"
      },
      "outputs": [
        {
          "output_type": "stream",
          "name": "stdout",
          "text": [
            "Mounted at /content/drive\n"
          ]
        }
      ],
      "source": [
        "from google.colab import drive\n",
        "drive.mount('/content/drive', force_remount=True)"
      ]
    },
    {
      "cell_type": "code",
      "execution_count": null,
      "metadata": {
        "id": "U0-vhh3A__9j"
      },
      "outputs": [],
      "source": [
        "import shutil\n",
        "import urllib\n",
        "import os\n",
        "import pandas as pd\n",
        "import numpy as np\n",
        "import matplotlib.pyplot as plt\n",
        "import seaborn as sns\n",
        "% matplotlib inline"
      ]
    },
    {
      "cell_type": "code",
      "execution_count": null,
      "metadata": {
        "id": "Yfa4TDwt_lW5"
      },
      "outputs": [],
      "source": [
        "DIR = \"drive/MyDrive/Thorax Disease Classification\"\n",
        "os.chdir(DIR)"
      ]
    },
    {
      "cell_type": "code",
      "execution_count": null,
      "metadata": {
        "id": "wWW-PYLgSddL",
        "colab": {
          "base_uri": "https://localhost:8080/",
          "height": 206
        },
        "outputId": "b8d7edcf-2b66-413c-d9aa-700c0a676c87"
      },
      "outputs": [
        {
          "output_type": "execute_result",
          "data": {
            "text/html": [
              "\n",
              "  <div id=\"df-9a59e656-6b1c-4e8c-b301-f0baf8c67b6c\">\n",
              "    <div class=\"colab-df-container\">\n",
              "      <div>\n",
              "<style scoped>\n",
              "    .dataframe tbody tr th:only-of-type {\n",
              "        vertical-align: middle;\n",
              "    }\n",
              "\n",
              "    .dataframe tbody tr th {\n",
              "        vertical-align: top;\n",
              "    }\n",
              "\n",
              "    .dataframe thead th {\n",
              "        text-align: right;\n",
              "    }\n",
              "</style>\n",
              "<table border=\"1\" class=\"dataframe\">\n",
              "  <thead>\n",
              "    <tr style=\"text-align: right;\">\n",
              "      <th></th>\n",
              "      <th>Image Index</th>\n",
              "      <th>Effusion</th>\n",
              "      <th>No Finding</th>\n",
              "      <th>Pneumonia</th>\n",
              "      <th>Pneumothorax</th>\n",
              "    </tr>\n",
              "  </thead>\n",
              "  <tbody>\n",
              "    <tr>\n",
              "      <th>0</th>\n",
              "      <td>00006022_006.png</td>\n",
              "      <td>0</td>\n",
              "      <td>1</td>\n",
              "      <td>0</td>\n",
              "      <td>0</td>\n",
              "    </tr>\n",
              "    <tr>\n",
              "      <th>1</th>\n",
              "      <td>00020953_001.png</td>\n",
              "      <td>1</td>\n",
              "      <td>0</td>\n",
              "      <td>0</td>\n",
              "      <td>0</td>\n",
              "    </tr>\n",
              "    <tr>\n",
              "      <th>2</th>\n",
              "      <td>00029052_010.png</td>\n",
              "      <td>1</td>\n",
              "      <td>0</td>\n",
              "      <td>0</td>\n",
              "      <td>1</td>\n",
              "    </tr>\n",
              "    <tr>\n",
              "      <th>3</th>\n",
              "      <td>00014125_054.png</td>\n",
              "      <td>1</td>\n",
              "      <td>0</td>\n",
              "      <td>0</td>\n",
              "      <td>0</td>\n",
              "    </tr>\n",
              "    <tr>\n",
              "      <th>4</th>\n",
              "      <td>00016987_010.png</td>\n",
              "      <td>1</td>\n",
              "      <td>0</td>\n",
              "      <td>0</td>\n",
              "      <td>0</td>\n",
              "    </tr>\n",
              "  </tbody>\n",
              "</table>\n",
              "</div>\n",
              "      <button class=\"colab-df-convert\" onclick=\"convertToInteractive('df-9a59e656-6b1c-4e8c-b301-f0baf8c67b6c')\"\n",
              "              title=\"Convert this dataframe to an interactive table.\"\n",
              "              style=\"display:none;\">\n",
              "        \n",
              "  <svg xmlns=\"http://www.w3.org/2000/svg\" height=\"24px\"viewBox=\"0 0 24 24\"\n",
              "       width=\"24px\">\n",
              "    <path d=\"M0 0h24v24H0V0z\" fill=\"none\"/>\n",
              "    <path d=\"M18.56 5.44l.94 2.06.94-2.06 2.06-.94-2.06-.94-.94-2.06-.94 2.06-2.06.94zm-11 1L8.5 8.5l.94-2.06 2.06-.94-2.06-.94L8.5 2.5l-.94 2.06-2.06.94zm10 10l.94 2.06.94-2.06 2.06-.94-2.06-.94-.94-2.06-.94 2.06-2.06.94z\"/><path d=\"M17.41 7.96l-1.37-1.37c-.4-.4-.92-.59-1.43-.59-.52 0-1.04.2-1.43.59L10.3 9.45l-7.72 7.72c-.78.78-.78 2.05 0 2.83L4 21.41c.39.39.9.59 1.41.59.51 0 1.02-.2 1.41-.59l7.78-7.78 2.81-2.81c.8-.78.8-2.07 0-2.86zM5.41 20L4 18.59l7.72-7.72 1.47 1.35L5.41 20z\"/>\n",
              "  </svg>\n",
              "      </button>\n",
              "      \n",
              "  <style>\n",
              "    .colab-df-container {\n",
              "      display:flex;\n",
              "      flex-wrap:wrap;\n",
              "      gap: 12px;\n",
              "    }\n",
              "\n",
              "    .colab-df-convert {\n",
              "      background-color: #E8F0FE;\n",
              "      border: none;\n",
              "      border-radius: 50%;\n",
              "      cursor: pointer;\n",
              "      display: none;\n",
              "      fill: #1967D2;\n",
              "      height: 32px;\n",
              "      padding: 0 0 0 0;\n",
              "      width: 32px;\n",
              "    }\n",
              "\n",
              "    .colab-df-convert:hover {\n",
              "      background-color: #E2EBFA;\n",
              "      box-shadow: 0px 1px 2px rgba(60, 64, 67, 0.3), 0px 1px 3px 1px rgba(60, 64, 67, 0.15);\n",
              "      fill: #174EA6;\n",
              "    }\n",
              "\n",
              "    [theme=dark] .colab-df-convert {\n",
              "      background-color: #3B4455;\n",
              "      fill: #D2E3FC;\n",
              "    }\n",
              "\n",
              "    [theme=dark] .colab-df-convert:hover {\n",
              "      background-color: #434B5C;\n",
              "      box-shadow: 0px 1px 3px 1px rgba(0, 0, 0, 0.15);\n",
              "      filter: drop-shadow(0px 1px 2px rgba(0, 0, 0, 0.3));\n",
              "      fill: #FFFFFF;\n",
              "    }\n",
              "  </style>\n",
              "\n",
              "      <script>\n",
              "        const buttonEl =\n",
              "          document.querySelector('#df-9a59e656-6b1c-4e8c-b301-f0baf8c67b6c button.colab-df-convert');\n",
              "        buttonEl.style.display =\n",
              "          google.colab.kernel.accessAllowed ? 'block' : 'none';\n",
              "\n",
              "        async function convertToInteractive(key) {\n",
              "          const element = document.querySelector('#df-9a59e656-6b1c-4e8c-b301-f0baf8c67b6c');\n",
              "          const dataTable =\n",
              "            await google.colab.kernel.invokeFunction('convertToInteractive',\n",
              "                                                     [key], {});\n",
              "          if (!dataTable) return;\n",
              "\n",
              "          const docLinkHtml = 'Like what you see? Visit the ' +\n",
              "            '<a target=\"_blank\" href=https://colab.research.google.com/notebooks/data_table.ipynb>data table notebook</a>'\n",
              "            + ' to learn more about interactive tables.';\n",
              "          element.innerHTML = '';\n",
              "          dataTable['output_type'] = 'display_data';\n",
              "          await google.colab.output.renderOutput(dataTable, element);\n",
              "          const docLink = document.createElement('div');\n",
              "          docLink.innerHTML = docLinkHtml;\n",
              "          element.appendChild(docLink);\n",
              "        }\n",
              "      </script>\n",
              "    </div>\n",
              "  </div>\n",
              "  "
            ],
            "text/plain": [
              "        Image Index  Effusion  No Finding  Pneumonia  Pneumothorax\n",
              "0  00006022_006.png         0           1          0             0\n",
              "1  00020953_001.png         1           0          0             0\n",
              "2  00029052_010.png         1           0          0             1\n",
              "3  00014125_054.png         1           0          0             0\n",
              "4  00016987_010.png         1           0          0             0"
            ]
          },
          "metadata": {},
          "execution_count": 4
        }
      ],
      "source": [
        "df = pd.read_csv(\"df.csv\")\n",
        "df.head()"
      ]
    },
    {
      "cell_type": "code",
      "execution_count": null,
      "metadata": {
        "id": "bXsDvPTsSc_9"
      },
      "outputs": [],
      "source": [
        "## split data into train and test\n",
        "n_train = int(df.shape[0] * .7)\n",
        "train = df.iloc[:n_train]\n",
        "test = df.iloc[n_train:]"
      ]
    },
    {
      "cell_type": "code",
      "execution_count": null,
      "metadata": {
        "id": "rdFI7f17Sc7n",
        "colab": {
          "base_uri": "https://localhost:8080/"
        },
        "outputId": "811f7850-4ef6-40d3-9000-1cada4693aa5"
      },
      "outputs": [
        {
          "output_type": "execute_result",
          "data": {
            "text/plain": [
              "(17680, 5)"
            ]
          },
          "metadata": {},
          "execution_count": 6
        }
      ],
      "source": [
        "train.shape"
      ]
    },
    {
      "cell_type": "code",
      "execution_count": null,
      "metadata": {
        "id": "XqBx7UAVQy1M",
        "colab": {
          "base_uri": "https://localhost:8080/"
        },
        "outputId": "e35e74af-149a-49bf-d467-de60a1e28356"
      },
      "outputs": [
        {
          "output_type": "execute_result",
          "data": {
            "text/plain": [
              "['Effusion', 'No Finding', 'Pneumonia', 'Pneumothorax']"
            ]
          },
          "metadata": {},
          "execution_count": 7
        }
      ],
      "source": [
        "col = train.columns[1:].tolist()\n",
        "col"
      ]
    },
    {
      "cell_type": "code",
      "execution_count": null,
      "metadata": {
        "id": "ALcb8PDuP_gw"
      },
      "outputs": [],
      "source": [
        "import tensorflow as tf\n",
        "from keras import backend as K \n",
        "from keras_preprocessing.image import ImageDataGenerator\n",
        "import keras"
      ]
    },
    {
      "cell_type": "code",
      "execution_count": null,
      "metadata": {
        "id": "2DLspXX3ihd6"
      },
      "outputs": [],
      "source": [
        "datagen = ImageDataGenerator(rescale=1./255., validation_split=0.2)\n",
        "\n"
      ]
    },
    {
      "cell_type": "code",
      "execution_count": null,
      "metadata": {
        "id": "9RW3yCU4irFr",
        "colab": {
          "base_uri": "https://localhost:8080/"
        },
        "outputId": "99a0a421-01f4-4e35-85d1-e7d0b5b4f7f7"
      },
      "outputs": [
        {
          "output_type": "stream",
          "name": "stdout",
          "text": [
            "Found 9355 validated image filenames.\n"
          ]
        },
        {
          "output_type": "stream",
          "name": "stderr",
          "text": [
            "/usr/local/lib/python3.7/dist-packages/keras_preprocessing/image/dataframe_iterator.py:282: UserWarning: Found 5987 invalid image filename(s) in x_col=\"Image Index\". These filename(s) will be ignored.\n",
            "  .format(n_invalid, x_col)\n"
          ]
        }
      ],
      "source": [
        "train_generator = datagen.flow_from_dataframe(dataframe=train,\n",
        "                                            directory=\"data/images/\",\n",
        "                                            x_col=\"Image Index\",\n",
        "                                            y_col=col,\n",
        "                                            subset=\"training\",\n",
        "                                            batch_size=128,\n",
        "                                            seed=42,\n",
        "                                            shuffle=True,\n",
        "                                            class_mode=\"raw\",\n",
        "                                            target_size=(224, 224))\n",
        "\n"
      ]
    },
    {
      "cell_type": "code",
      "execution_count": null,
      "metadata": {
        "id": "4RcaKN8Hiq7v",
        "colab": {
          "base_uri": "https://localhost:8080/"
        },
        "outputId": "4b3f3bd9-6db0-4d8e-8869-147526d069ba"
      },
      "outputs": [
        {
          "output_type": "stream",
          "name": "stdout",
          "text": [
            "Found 2338 validated image filenames.\n"
          ]
        },
        {
          "output_type": "stream",
          "name": "stderr",
          "text": [
            "/usr/local/lib/python3.7/dist-packages/keras_preprocessing/image/dataframe_iterator.py:282: UserWarning: Found 5986 invalid image filename(s) in x_col=\"Image Index\". These filename(s) will be ignored.\n",
            "  .format(n_invalid, x_col)\n"
          ]
        }
      ],
      "source": [
        "valid_generator = datagen.flow_from_dataframe(dataframe=train,\n",
        "                                            directory=\"data/images/\",\n",
        "                                            x_col=\"Image Index\",\n",
        "                                            y_col=col,\n",
        "                                            subset=\"validation\",\n",
        "                                            batch_size=128,\n",
        "                                            seed=42,\n",
        "                                            shuffle=True,\n",
        "                                            class_mode=\"raw\",\n",
        "                                            target_size=(224, 224))\n",
        "\n"
      ]
    },
    {
      "cell_type": "code",
      "execution_count": null,
      "metadata": {
        "id": "AGAzw4E8iqvc",
        "colab": {
          "base_uri": "https://localhost:8080/"
        },
        "outputId": "5b9c9e7c-1a62-4430-dcd7-20847b74457c"
      },
      "outputs": [
        {
          "output_type": "stream",
          "name": "stdout",
          "text": [
            "Found 5016 validated image filenames.\n"
          ]
        },
        {
          "output_type": "stream",
          "name": "stderr",
          "text": [
            "/usr/local/lib/python3.7/dist-packages/keras_preprocessing/image/dataframe_iterator.py:282: UserWarning: Found 2562 invalid image filename(s) in x_col=\"Image Index\". These filename(s) will be ignored.\n",
            "  .format(n_invalid, x_col)\n"
          ]
        }
      ],
      "source": [
        "test_datagen = ImageDataGenerator(rescale=1./255.)\n",
        "test_generator = test_datagen.flow_from_dataframe(dataframe=test,\n",
        "                                            directory=\"data/images/\",\n",
        "                                            x_col=\"Image Index\",\n",
        "                                            y_col=col,\n",
        "                                            batch_size=32,\n",
        "                                            seed=42,\n",
        "                                            shuffle=False,\n",
        "                                            class_mode=\"raw\",\n",
        "                                            target_size=(224, 224))"
      ]
    },
    {
      "cell_type": "code",
      "execution_count": null,
      "metadata": {
        "id": "ceCsituIUkYF",
        "colab": {
          "base_uri": "https://localhost:8080/"
        },
        "outputId": "d7b8e4d4-8cf5-4141-d942-a0ac27e1d721"
      },
      "outputs": [
        {
          "output_type": "execute_result",
          "data": {
            "text/plain": [
              "(224, 224, 3)"
            ]
          },
          "metadata": {},
          "execution_count": 13
        }
      ],
      "source": [
        "IMG_SIZE = (224, 224)\n",
        "IMG_SHAPE = IMG_SIZE + (3,)\n",
        "IMG_SHAPE"
      ]
    },
    {
      "cell_type": "code",
      "execution_count": null,
      "metadata": {
        "id": "CyA6aFeTP9jx",
        "colab": {
          "base_uri": "https://localhost:8080/"
        },
        "outputId": "8d43977f-1ba1-4d53-fc4f-f3de700e3f18"
      },
      "outputs": [
        {
          "output_type": "stream",
          "name": "stdout",
          "text": [
            "Downloading data from https://storage.googleapis.com/tensorflow/keras-applications/vgg16/vgg16_weights_tf_dim_ordering_tf_kernels_notop.h5\n",
            "58892288/58889256 [==============================] - 1s 0us/step\n",
            "58900480/58889256 [==============================] - 1s 0us/step\n"
          ]
        }
      ],
      "source": [
        "base_model = tf.keras.applications.vgg16.VGG16(input_shape=IMG_SHAPE,\n",
        "                                               include_top=False,\n",
        "                                               weights='imagenet')"
      ]
    },
    {
      "cell_type": "code",
      "execution_count": null,
      "metadata": {
        "id": "xsO9fSceXQ7q",
        "colab": {
          "base_uri": "https://localhost:8080/"
        },
        "outputId": "71e511de-4b1b-4cee-bd2d-4176bdec2cb2"
      },
      "outputs": [
        {
          "output_type": "stream",
          "name": "stdout",
          "text": [
            "(128, 7, 7, 512)\n"
          ]
        }
      ],
      "source": [
        "image_batch, label_batch = next(iter(train_generator))\n",
        "feature_batch = base_model(image_batch)\n",
        "print(feature_batch.shape)"
      ]
    },
    {
      "cell_type": "code",
      "execution_count": null,
      "metadata": {
        "id": "j2y0JNaBP9Bu",
        "colab": {
          "base_uri": "https://localhost:8080/"
        },
        "outputId": "7dfe971d-be0a-49a0-cebf-9efb16860830"
      },
      "outputs": [
        {
          "output_type": "stream",
          "name": "stdout",
          "text": [
            "Model: \"vgg16\"\n",
            "_________________________________________________________________\n",
            " Layer (type)                Output Shape              Param #   \n",
            "=================================================================\n",
            " input_1 (InputLayer)        [(None, 224, 224, 3)]     0         \n",
            "                                                                 \n",
            " block1_conv1 (Conv2D)       (None, 224, 224, 64)      1792      \n",
            "                                                                 \n",
            " block1_conv2 (Conv2D)       (None, 224, 224, 64)      36928     \n",
            "                                                                 \n",
            " block1_pool (MaxPooling2D)  (None, 112, 112, 64)      0         \n",
            "                                                                 \n",
            " block2_conv1 (Conv2D)       (None, 112, 112, 128)     73856     \n",
            "                                                                 \n",
            " block2_conv2 (Conv2D)       (None, 112, 112, 128)     147584    \n",
            "                                                                 \n",
            " block2_pool (MaxPooling2D)  (None, 56, 56, 128)       0         \n",
            "                                                                 \n",
            " block3_conv1 (Conv2D)       (None, 56, 56, 256)       295168    \n",
            "                                                                 \n",
            " block3_conv2 (Conv2D)       (None, 56, 56, 256)       590080    \n",
            "                                                                 \n",
            " block3_conv3 (Conv2D)       (None, 56, 56, 256)       590080    \n",
            "                                                                 \n",
            " block3_pool (MaxPooling2D)  (None, 28, 28, 256)       0         \n",
            "                                                                 \n",
            " block4_conv1 (Conv2D)       (None, 28, 28, 512)       1180160   \n",
            "                                                                 \n",
            " block4_conv2 (Conv2D)       (None, 28, 28, 512)       2359808   \n",
            "                                                                 \n",
            " block4_conv3 (Conv2D)       (None, 28, 28, 512)       2359808   \n",
            "                                                                 \n",
            " block4_pool (MaxPooling2D)  (None, 14, 14, 512)       0         \n",
            "                                                                 \n",
            " block5_conv1 (Conv2D)       (None, 14, 14, 512)       2359808   \n",
            "                                                                 \n",
            " block5_conv2 (Conv2D)       (None, 14, 14, 512)       2359808   \n",
            "                                                                 \n",
            " block5_conv3 (Conv2D)       (None, 14, 14, 512)       2359808   \n",
            "                                                                 \n",
            " block5_pool (MaxPooling2D)  (None, 7, 7, 512)         0         \n",
            "                                                                 \n",
            "=================================================================\n",
            "Total params: 14,714,688\n",
            "Trainable params: 14,714,688\n",
            "Non-trainable params: 0\n",
            "_________________________________________________________________\n"
          ]
        }
      ],
      "source": [
        "# Let's take a look at the base model architecture\n",
        "base_model.summary()"
      ]
    },
    {
      "cell_type": "code",
      "execution_count": null,
      "metadata": {
        "id": "94mE2s-FSc22",
        "colab": {
          "base_uri": "https://localhost:8080/"
        },
        "outputId": "d2d8a19b-f05d-4937-f156-4e5ce3fad0f9"
      },
      "outputs": [
        {
          "output_type": "stream",
          "name": "stdout",
          "text": [
            "(128, 512)\n"
          ]
        }
      ],
      "source": [
        "global_average_layer = tf.keras.layers.GlobalAveragePooling2D()\n",
        "feature_batch_average = global_average_layer(feature_batch)\n",
        "print(feature_batch_average.shape)"
      ]
    },
    {
      "cell_type": "code",
      "execution_count": null,
      "metadata": {
        "id": "xvUykR8QScy0",
        "colab": {
          "base_uri": "https://localhost:8080/"
        },
        "outputId": "3b82ee5b-6096-47b5-8a0d-6bdeeae17ce6"
      },
      "outputs": [
        {
          "output_type": "stream",
          "name": "stdout",
          "text": [
            "(128, 4)\n"
          ]
        }
      ],
      "source": [
        "prediction_layer = tf.keras.layers.Dense(4)\n",
        "prediction_batch = prediction_layer(feature_batch_average)\n",
        "print(prediction_batch.shape)"
      ]
    },
    {
      "cell_type": "code",
      "execution_count": null,
      "metadata": {
        "id": "JWaGJdNYSck3"
      },
      "outputs": [],
      "source": [
        "base_model.trainable = True"
      ]
    },
    {
      "cell_type": "code",
      "execution_count": null,
      "metadata": {
        "id": "fFUQeQbDSct6"
      },
      "outputs": [],
      "source": [
        "inputs = tf.keras.Input(shape=(IMG_SHAPE))\n",
        "x = base_model(inputs, training=False)\n",
        "x = global_average_layer(x)\n",
        "x = tf.keras.layers.Dropout(0.2)(x)\n",
        "outputs = prediction_layer(x)\n",
        "model = tf.keras.Model(inputs, outputs)"
      ]
    },
    {
      "cell_type": "code",
      "execution_count": null,
      "metadata": {
        "id": "7JXogwDBScoy"
      },
      "outputs": [],
      "source": [
        ""
      ]
    },
    {
      "cell_type": "code",
      "execution_count": null,
      "metadata": {
        "id": "GUfNtkP2ScfO",
        "colab": {
          "base_uri": "https://localhost:8080/"
        },
        "outputId": "f67db93a-5db4-4211-bfc7-5605cf76309d"
      },
      "outputs": [
        {
          "output_type": "stream",
          "name": "stdout",
          "text": [
            "Number of layers in the base model:  19\n"
          ]
        }
      ],
      "source": [
        "# Let's take a look to see how many layers are in the base model\n",
        "print(\"Number of layers in the base model: \", len(base_model.layers))\n",
        "\n",
        "# Fine-tune from this layer onwards\n",
        "fine_tune_at = 100\n",
        "\n",
        "# Freeze all the layers before the `fine_tune_at` layer\n",
        "for layer in base_model.layers[:fine_tune_at]:\n",
        "  layer.trainable =  False"
      ]
    },
    {
      "cell_type": "code",
      "source": [
        "# custom loss\n",
        "\n",
        "POS_WEIGHT = 10  # multiplier for positive targets, needs to be tuned\n",
        "\n",
        "\n",
        "def wce(target, output):\n",
        "    \"\"\"\n",
        "    Weighted binary crossentropy between an output tensor \n",
        "    and a target tensor. POS_WEIGHT is used as a multiplier \n",
        "    for the positive targets.\n",
        "\n",
        "    Combination of the following functions:\n",
        "    * keras.losses.binary_crossentropy\n",
        "    * keras.backend.tensorflow_backend.binary_crossentropy\n",
        "    * tf.nn.weighted_cross_entropy_with_logits\n",
        "    \"\"\"\n",
        "    # print(f\"target: {target}\")\n",
        "    # print(f\"output: {output}\")\n",
        "    # transform back to logits\n",
        "    output = K.clip(output, K.epsilon(), 1 - K.epsilon())\n",
        "    output = tf.math.log(output / (1 - output))\n",
        "\n",
        "    # output = tf.constant(output)\n",
        "    # target = tf.constant(target)\n",
        "    labels = tf.cast(tf.reshape(target , [-1, 4]), dtype=tf.float32)\n",
        "\n",
        "    # compute weighted loss\n",
        "    loss = tf.nn.weighted_cross_entropy_with_logits(labels=labels,\n",
        "                                                    logits=output,\n",
        "                                                    pos_weight=POS_WEIGHT)\n",
        "   # loss = tf.where(tf.is_nan(loss), tf.zeros_like(loss), loss)\n",
        "    return K.mean(loss)\n",
        "\n",
        "# def wce(target, output):\n",
        "   \n",
        "#     # transform back to logits\n",
        "#     output = K.clip(output, K.epsilon(), 1 - K.epsilon())\n",
        "#     output = tf.math.log(output / (1 - output))\n",
        "\n",
        "#     # output = tf.constant(output)\n",
        "#     # target = tf.constant(target)\n",
        "#     labels = tf.cast(tf.reshape(target , [-1, 4]), dtype=tf.float32)\n",
        "\n",
        "#     # compute weighted loss\n",
        "#     loss = tf.reduced_mean(tf.nn.weighted_cross_entropy_with_logits(labels=labels, logits=output, pos_weight=POS_WEIGHT))\n",
        "#     return loss"
      ],
      "metadata": {
        "id": "LakySpR9TF_v"
      },
      "execution_count": null,
      "outputs": []
    },
    {
      "cell_type": "code",
      "execution_count": null,
      "metadata": {
        "id": "sdyo4rx_4c9F"
      },
      "outputs": [],
      "source": [
        "model1 = keras.models.clone_model(model)"
      ]
    },
    {
      "cell_type": "code",
      "execution_count": null,
      "metadata": {
        "id": "tMXkyQNLSwvM",
        "colab": {
          "base_uri": "https://localhost:8080/"
        },
        "outputId": "629f6a65-a594-42c1-cfd0-0e966c92e374"
      },
      "outputs": [
        {
          "output_type": "stream",
          "name": "stderr",
          "text": [
            "/usr/local/lib/python3.7/dist-packages/keras/optimizer_v2/adam.py:105: UserWarning: The `lr` argument is deprecated, use `learning_rate` instead.\n",
            "  super(Adam, self).__init__(name, **kwargs)\n"
          ]
        }
      ],
      "source": [
        "#COMPILATION OF MODEL ARCHITECTURE\n",
        "\n",
        "base_learning_rate = 0.0001\n",
        "model.compile(loss=tf.keras.losses.CategoricalCrossentropy(from_logits=True),\n",
        "              optimizer = tf.keras.optimizers.Adam(lr=base_learning_rate/10),\n",
        "              metrics=['accuracy'])"
      ]
    },
    {
      "cell_type": "code",
      "execution_count": null,
      "metadata": {
        "id": "iIrv1zZQcwQ2",
        "colab": {
          "base_uri": "https://localhost:8080/"
        },
        "outputId": "c80c7f48-b102-4d04-85b4-e1f50a1fbe03"
      },
      "outputs": [
        {
          "output_type": "stream",
          "name": "stdout",
          "text": [
            "Model: \"model\"\n",
            "_________________________________________________________________\n",
            " Layer (type)                Output Shape              Param #   \n",
            "=================================================================\n",
            " input_2 (InputLayer)        [(None, 224, 224, 3)]     0         \n",
            "                                                                 \n",
            " vgg16 (Functional)          (None, 7, 7, 512)         14714688  \n",
            "                                                                 \n",
            " global_average_pooling2d (G  (None, 512)              0         \n",
            " lobalAveragePooling2D)                                          \n",
            "                                                                 \n",
            " dropout (Dropout)           (None, 512)               0         \n",
            "                                                                 \n",
            " dense (Dense)               (None, 4)                 2052      \n",
            "                                                                 \n",
            "=================================================================\n",
            "Total params: 14,716,740\n",
            "Trainable params: 2,052\n",
            "Non-trainable params: 14,714,688\n",
            "_________________________________________________________________\n"
          ]
        }
      ],
      "source": [
        "model.summary()"
      ]
    },
    {
      "cell_type": "code",
      "execution_count": null,
      "metadata": {
        "id": "Qyutxnn1cwEa",
        "colab": {
          "base_uri": "https://localhost:8080/"
        },
        "outputId": "731cd287-43d2-4f2c-afc6-4e8328708453"
      },
      "outputs": [
        {
          "output_type": "execute_result",
          "data": {
            "text/plain": [
              "2"
            ]
          },
          "metadata": {},
          "execution_count": 26
        }
      ],
      "source": [
        "len(model.trainable_variables)"
      ]
    },
    {
      "cell_type": "code",
      "execution_count": null,
      "metadata": {
        "id": "PvEnRMmTcv3P"
      },
      "outputs": [],
      "source": [
        ""
      ]
    },
    {
      "cell_type": "code",
      "execution_count": null,
      "metadata": {
        "id": "hz9WTQY1cvq4"
      },
      "outputs": [],
      "source": [
        ""
      ]
    },
    {
      "cell_type": "code",
      "execution_count": null,
      "metadata": {
        "id": "fbv1wxrfcvdg",
        "colab": {
          "base_uri": "https://localhost:8080/"
        },
        "outputId": "dece24bd-a630-4da3-b0d2-68092923486d"
      },
      "outputs": [
        {
          "output_type": "stream",
          "name": "stdout",
          "text": [
            "Num GPUs Available:  1\n"
          ]
        }
      ],
      "source": [
        "print(\"Num GPUs Available: \", len(tf.config.list_physical_devices('GPU')))"
      ]
    },
    {
      "cell_type": "code",
      "execution_count": null,
      "metadata": {
        "id": "anqsIG-8SwVs"
      },
      "outputs": [],
      "source": [
        "# #AFTER COMPILING THE MODEL, THE MODEL IS TRAINED BELOW\n",
        "# callbacks = [\n",
        "#     # tf.keras.callbacks.EarlyStopping(patience=10, restore_best_weights=True,),\n",
        "#     tf.keras.callbacks.TensorBoard(log_dir='./logs/VGGlogs'),\n",
        "#     # tf.keras.callbacks.ReduceLROnPlateau(monitor=\"val_loss\", factor=0.1, patience=3, verbose=0, min_delta=0.0001, min_lr=0, ),\n",
        "    \n",
        "# ]\n",
        "\n",
        "# STEP_SIZE_TRAIN = train_generator.n//train_generator.batch_size\n",
        "# STEP_SIZE_VALID = valid_generator.n//valid_generator.batch_size\n",
        "# STEP_SIZE_TEST = test_generator.n//test_generator.batch_size\n",
        "\n",
        "# history = model.fit_generator(generator=train_generator, steps_per_epoch=STEP_SIZE_TRAIN,\n",
        "#                     validation_data=valid_generator,  validation_steps=STEP_SIZE_VALID,\n",
        "#                     epochs=100, verbose=1, callbacks=callbacks)"
      ]
    },
    {
      "cell_type": "code",
      "execution_count": null,
      "metadata": {
        "id": "oyZtBScSMGaN"
      },
      "outputs": [],
      "source": [
        "# #os.mkdir(\"models\")\n",
        "# model.save(\"models/VGG-model.h5\")"
      ]
    },
    {
      "cell_type": "code",
      "execution_count": null,
      "metadata": {
        "id": "Mj_oMhTg4aYB"
      },
      "outputs": [],
      "source": [
        "test_label = test_generator.labels"
      ]
    },
    {
      "cell_type": "code",
      "source": [
        "model = keras.models.load_model(\"models/VGG-model.h5\", compile=False)"
      ],
      "metadata": {
        "id": "kS9CK8j89yQu"
      },
      "execution_count": null,
      "outputs": []
    },
    {
      "cell_type": "code",
      "source": [
        "prob = model.predict_generator(test_generator)\n",
        "prob"
      ],
      "metadata": {
        "colab": {
          "base_uri": "https://localhost:8080/"
        },
        "id": "24VcbR829yDw",
        "outputId": "332ff6b8-9bd3-4827-f0dd-3d6a4c80d6ee"
      },
      "execution_count": null,
      "outputs": [
        {
          "output_type": "stream",
          "name": "stderr",
          "text": [
            "/usr/local/lib/python3.7/dist-packages/ipykernel_launcher.py:1: UserWarning: `Model.predict_generator` is deprecated and will be removed in a future version. Please use `Model.predict`, which supports generators.\n",
            "  \"\"\"Entry point for launching an IPython kernel.\n"
          ]
        },
        {
          "output_type": "execute_result",
          "data": {
            "text/plain": [
              "array([[ 1.5050982 ,  0.79469734, -0.7464331 ,  0.6723772 ],\n",
              "       [ 1.633309  ,  0.6530788 , -1.0077466 ,  0.43950802],\n",
              "       [ 1.5164591 ,  0.6179038 , -0.86806506,  0.29752272],\n",
              "       ...,\n",
              "       [ 1.3325318 ,  0.9076812 , -0.83797073,  0.61440784],\n",
              "       [ 1.4823662 ,  0.58587015, -0.8549471 ,  0.3671271 ],\n",
              "       [ 1.5349084 ,  0.35958666, -0.76027036,  0.35115814]],\n",
              "      dtype=float32)"
            ]
          },
          "metadata": {},
          "execution_count": 17
        }
      ]
    },
    {
      "cell_type": "code",
      "source": [
        "from sklearn.metrics import roc_auc_score"
      ],
      "metadata": {
        "id": "ENgxKsPJ-Mkc"
      },
      "execution_count": null,
      "outputs": []
    },
    {
      "cell_type": "code",
      "source": [
        "roc_auc_score(test_label, prob)"
      ],
      "metadata": {
        "colab": {
          "base_uri": "https://localhost:8080/"
        },
        "id": "tyGhrwnd-MVC",
        "outputId": "d7df7bea-47a9-4b58-fc4b-f5be54380bcb"
      },
      "execution_count": null,
      "outputs": [
        {
          "output_type": "execute_result",
          "data": {
            "text/plain": [
              "0.5862350278902239"
            ]
          },
          "metadata": {},
          "execution_count": 19
        }
      ]
    },
    {
      "cell_type": "code",
      "source": [
        "roc_auc_score(test_label[:, 0], prob[:, 0])"
      ],
      "metadata": {
        "colab": {
          "base_uri": "https://localhost:8080/"
        },
        "id": "S0f56ViU-Tfg",
        "outputId": "53426ae9-55aa-4be3-de37-9ae40402a3ef"
      },
      "execution_count": null,
      "outputs": [
        {
          "output_type": "execute_result",
          "data": {
            "text/plain": [
              "0.6570818071304729"
            ]
          },
          "metadata": {},
          "execution_count": 20
        }
      ]
    },
    {
      "cell_type": "code",
      "source": [
        "roc_auc_score(test_label[:, 1], prob[:, 1])"
      ],
      "metadata": {
        "colab": {
          "base_uri": "https://localhost:8080/"
        },
        "id": "nE1UsHbI-TVv",
        "outputId": "c957269c-bf61-4f3f-d4bf-b826ac0a012d"
      },
      "execution_count": null,
      "outputs": [
        {
          "output_type": "execute_result",
          "data": {
            "text/plain": [
              "0.6603799767152039"
            ]
          },
          "metadata": {},
          "execution_count": 21
        }
      ]
    },
    {
      "cell_type": "code",
      "source": [
        "roc_auc_score(test_label[:, 2], prob[:, 2])"
      ],
      "metadata": {
        "colab": {
          "base_uri": "https://localhost:8080/"
        },
        "id": "GseiP4Xb-TMe",
        "outputId": "7b1e4266-1081-4537-c873-c39bd860a03b"
      },
      "execution_count": null,
      "outputs": [
        {
          "output_type": "execute_result",
          "data": {
            "text/plain": [
              "0.462857056402808"
            ]
          },
          "metadata": {},
          "execution_count": 22
        }
      ]
    },
    {
      "cell_type": "code",
      "source": [
        "roc_auc_score(test_label[:, 3], prob[:, 3])"
      ],
      "metadata": {
        "colab": {
          "base_uri": "https://localhost:8080/"
        },
        "id": "_6p1ergO-TBr",
        "outputId": "31799c1a-3a0f-403c-888d-be76de3dffb4"
      },
      "execution_count": null,
      "outputs": [
        {
          "output_type": "execute_result",
          "data": {
            "text/plain": [
              "0.5646212713124106"
            ]
          },
          "metadata": {},
          "execution_count": 23
        }
      ]
    },
    {
      "cell_type": "code",
      "source": [
        ""
      ],
      "metadata": {
        "id": "Cs9xycx1-cuh"
      },
      "execution_count": null,
      "outputs": []
    },
    {
      "cell_type": "code",
      "execution_count": null,
      "metadata": {
        "id": "1EU-ampm3ynW",
        "colab": {
          "base_uri": "https://localhost:8080/"
        },
        "outputId": "43013cc4-1f61-443c-843c-f97529faa56f"
      },
      "outputs": [
        {
          "output_type": "stream",
          "name": "stderr",
          "text": [
            "/usr/local/lib/python3.7/dist-packages/keras/optimizer_v2/adam.py:105: UserWarning: The `lr` argument is deprecated, use `learning_rate` instead.\n",
            "  super(Adam, self).__init__(name, **kwargs)\n"
          ]
        }
      ],
      "source": [
        "base_learning_rate = 0.0001\n",
        "model1.compile(loss=wce,\n",
        "               optimizer = tf.keras.optimizers.Adam(lr=base_learning_rate/10),\n",
        "               metrics=['accuracy'])"
      ]
    },
    {
      "cell_type": "code",
      "execution_count": null,
      "metadata": {
        "id": "916voJaV3yfu",
        "colab": {
          "base_uri": "https://localhost:8080/"
        },
        "outputId": "23c45c7b-a522-48c1-85f2-02974a1b6f37"
      },
      "outputs": [
        {
          "output_type": "stream",
          "name": "stderr",
          "text": [
            "/usr/local/lib/python3.7/dist-packages/ipykernel_launcher.py:14: UserWarning: `Model.fit_generator` is deprecated and will be removed in a future version. Please use `Model.fit`, which supports generators.\n",
            "  \n"
          ]
        },
        {
          "output_type": "stream",
          "name": "stdout",
          "text": [
            "Epoch 1/100\n",
            "73/73 [==============================] - 7377s 101s/step - loss: 35.8542 - accuracy: 0.1749 - val_loss: 34.1961 - val_accuracy: 0.2700\n",
            "Epoch 2/100\n",
            "73/73 [==============================] - 226s 3s/step - loss: 33.9217 - accuracy: 0.1924 - val_loss: 33.8798 - val_accuracy: 0.2708\n",
            "Epoch 3/100\n",
            "73/73 [==============================] - 259s 4s/step - loss: 29.9823 - accuracy: 0.2078 - val_loss: 24.6445 - val_accuracy: 0.2700\n",
            "Epoch 4/100\n",
            "73/73 [==============================] - 256s 4s/step - loss: 25.7592 - accuracy: 0.2287 - val_loss: 21.6973 - val_accuracy: 0.2700\n",
            "Epoch 5/100\n",
            "73/73 [==============================] - 255s 4s/step - loss: 24.0045 - accuracy: 0.2188 - val_loss: 21.2275 - val_accuracy: 0.2687\n",
            "Epoch 6/100\n",
            "73/73 [==============================] - 224s 3s/step - loss: 22.9550 - accuracy: 0.2250 - val_loss: 20.8494 - val_accuracy: 0.2700\n",
            "Epoch 7/100\n",
            "73/73 [==============================] - 258s 4s/step - loss: 22.1225 - accuracy: 0.2209 - val_loss: 20.5447 - val_accuracy: 0.2691\n",
            "Epoch 8/100\n",
            "73/73 [==============================] - 219s 3s/step - loss: 21.4750 - accuracy: 0.2253 - val_loss: 20.3974 - val_accuracy: 0.2687\n",
            "Epoch 9/100\n",
            "73/73 [==============================] - 220s 3s/step - loss: 21.2284 - accuracy: 0.2251 - val_loss: 20.2824 - val_accuracy: 0.2687\n",
            "Epoch 10/100\n",
            "73/73 [==============================] - 258s 4s/step - loss: 20.9614 - accuracy: 0.2249 - val_loss: 20.1088 - val_accuracy: 0.2682\n",
            "Epoch 11/100\n",
            "73/73 [==============================] - 259s 4s/step - loss: 20.8132 - accuracy: 0.2158 - val_loss: 19.9887 - val_accuracy: 0.2704\n",
            "Epoch 12/100\n",
            "73/73 [==============================] - 219s 3s/step - loss: 20.6340 - accuracy: 0.2173 - val_loss: 19.9135 - val_accuracy: 0.2708\n",
            "Epoch 13/100\n",
            "73/73 [==============================] - 223s 3s/step - loss: 20.4945 - accuracy: 0.2114 - val_loss: 19.8340 - val_accuracy: 0.2669\n",
            "Epoch 14/100\n",
            "73/73 [==============================] - 224s 3s/step - loss: 20.3511 - accuracy: 0.2080 - val_loss: 19.7138 - val_accuracy: 0.2674\n",
            "Epoch 15/100\n",
            "73/73 [==============================] - 261s 4s/step - loss: 20.2456 - accuracy: 0.2082 - val_loss: 19.6616 - val_accuracy: 0.2691\n",
            "Epoch 16/100\n",
            "73/73 [==============================] - 226s 3s/step - loss: 20.1055 - accuracy: 0.2095 - val_loss: 19.5483 - val_accuracy: 0.2691\n",
            "Epoch 17/100\n",
            "73/73 [==============================] - 225s 3s/step - loss: 19.9786 - accuracy: 0.2015 - val_loss: 19.4441 - val_accuracy: 0.2704\n",
            "Epoch 18/100\n",
            "73/73 [==============================] - 262s 4s/step - loss: 19.9326 - accuracy: 0.2015 - val_loss: 19.3431 - val_accuracy: 0.2687\n",
            "Epoch 19/100\n",
            "73/73 [==============================] - 261s 4s/step - loss: 19.8413 - accuracy: 0.2036 - val_loss: 19.2560 - val_accuracy: 0.2691\n",
            "Epoch 20/100\n",
            "73/73 [==============================] - 225s 3s/step - loss: 19.7146 - accuracy: 0.1948 - val_loss: 19.2009 - val_accuracy: 0.2704\n",
            "Epoch 21/100\n",
            "73/73 [==============================] - 224s 3s/step - loss: 19.6862 - accuracy: 0.1972 - val_loss: 19.1121 - val_accuracy: 0.2708\n",
            "Epoch 22/100\n",
            "73/73 [==============================] - 225s 3s/step - loss: 19.6029 - accuracy: 0.2006 - val_loss: 19.0816 - val_accuracy: 0.2695\n",
            "Epoch 23/100\n",
            "73/73 [==============================] - 264s 4s/step - loss: 19.5286 - accuracy: 0.2009 - val_loss: 19.0207 - val_accuracy: 0.2695\n",
            "Epoch 24/100\n",
            "73/73 [==============================] - 266s 4s/step - loss: 19.4529 - accuracy: 0.1984 - val_loss: 18.9795 - val_accuracy: 0.2678\n",
            "Epoch 25/100\n",
            "73/73 [==============================] - 227s 3s/step - loss: 19.3834 - accuracy: 0.1930 - val_loss: 18.8982 - val_accuracy: 0.2713\n",
            "Epoch 26/100\n",
            "73/73 [==============================] - 264s 4s/step - loss: 19.3281 - accuracy: 0.1957 - val_loss: 18.8245 - val_accuracy: 0.2704\n",
            "Epoch 27/100\n",
            "73/73 [==============================] - 264s 4s/step - loss: 19.2398 - accuracy: 0.1971 - val_loss: 18.8047 - val_accuracy: 0.2700\n",
            "Epoch 28/100\n",
            "73/73 [==============================] - 263s 4s/step - loss: 19.2124 - accuracy: 0.1969 - val_loss: 18.7332 - val_accuracy: 0.2704\n",
            "Epoch 29/100\n",
            "73/73 [==============================] - 264s 4s/step - loss: 19.1231 - accuracy: 0.1958 - val_loss: 18.6558 - val_accuracy: 0.2678\n",
            "Epoch 30/100\n",
            "73/73 [==============================] - 226s 3s/step - loss: 19.0475 - accuracy: 0.1923 - val_loss: 18.6235 - val_accuracy: 0.2704\n",
            "Epoch 31/100\n",
            "73/73 [==============================] - 261s 4s/step - loss: 19.0251 - accuracy: 0.1993 - val_loss: 18.5147 - val_accuracy: 0.2704\n",
            "Epoch 32/100\n",
            "73/73 [==============================] - 261s 4s/step - loss: 18.9656 - accuracy: 0.2009 - val_loss: 18.4610 - val_accuracy: 0.2691\n",
            "Epoch 33/100\n",
            "73/73 [==============================] - 259s 4s/step - loss: 18.8769 - accuracy: 0.1966 - val_loss: 18.4469 - val_accuracy: 0.2700\n",
            "Epoch 34/100\n",
            "73/73 [==============================] - 226s 3s/step - loss: 18.8327 - accuracy: 0.1984 - val_loss: 18.3815 - val_accuracy: 0.2700\n",
            "Epoch 35/100\n",
            "73/73 [==============================] - 263s 4s/step - loss: 18.7789 - accuracy: 0.1988 - val_loss: 18.2758 - val_accuracy: 0.2691\n",
            "Epoch 36/100\n",
            "73/73 [==============================] - 263s 4s/step - loss: 18.7234 - accuracy: 0.1998 - val_loss: 18.2882 - val_accuracy: 0.2687\n",
            "Epoch 37/100\n",
            "73/73 [==============================] - 225s 3s/step - loss: 18.6822 - accuracy: 0.2021 - val_loss: 18.2308 - val_accuracy: 0.2695\n",
            "Epoch 38/100\n",
            "73/73 [==============================] - 261s 4s/step - loss: 18.6145 - accuracy: 0.2058 - val_loss: 18.1593 - val_accuracy: 0.2708\n",
            "Epoch 39/100\n",
            "73/73 [==============================] - 261s 4s/step - loss: 18.5884 - accuracy: 0.2053 - val_loss: 18.0998 - val_accuracy: 0.2700\n",
            "Epoch 40/100\n",
            "73/73 [==============================] - 262s 4s/step - loss: 18.5477 - accuracy: 0.2021 - val_loss: 18.0492 - val_accuracy: 0.2708\n",
            "Epoch 41/100\n",
            "73/73 [==============================] - 226s 3s/step - loss: 18.4935 - accuracy: 0.2031 - val_loss: 18.0399 - val_accuracy: 0.2708\n",
            "Epoch 42/100\n",
            "73/73 [==============================] - 225s 3s/step - loss: 18.4320 - accuracy: 0.2001 - val_loss: 17.9450 - val_accuracy: 0.2704\n",
            "Epoch 43/100\n",
            "73/73 [==============================] - 227s 3s/step - loss: 18.3718 - accuracy: 0.2092 - val_loss: 17.9689 - val_accuracy: 0.2678\n",
            "Epoch 44/100\n",
            "73/73 [==============================] - 226s 3s/step - loss: 18.3495 - accuracy: 0.2092 - val_loss: 17.8483 - val_accuracy: 0.2704\n",
            "Epoch 45/100\n",
            "73/73 [==============================] - 221s 3s/step - loss: 18.2968 - accuracy: 0.2048 - val_loss: 17.8137 - val_accuracy: 0.2687\n",
            "Epoch 46/100\n",
            "73/73 [==============================] - 261s 4s/step - loss: 18.2412 - accuracy: 0.2136 - val_loss: 17.7723 - val_accuracy: 0.2682\n",
            "Epoch 47/100\n",
            "73/73 [==============================] - 225s 3s/step - loss: 18.2027 - accuracy: 0.2096 - val_loss: 17.7382 - val_accuracy: 0.2687\n",
            "Epoch 48/100\n",
            "73/73 [==============================] - 261s 4s/step - loss: 18.1411 - accuracy: 0.2106 - val_loss: 17.7173 - val_accuracy: 0.2704\n",
            "Epoch 49/100\n",
            "73/73 [==============================] - 260s 4s/step - loss: 18.1077 - accuracy: 0.2086 - val_loss: 17.6068 - val_accuracy: 0.2704\n",
            "Epoch 50/100\n",
            "73/73 [==============================] - 227s 3s/step - loss: 18.0410 - accuracy: 0.2183 - val_loss: 17.6230 - val_accuracy: 0.2682\n",
            "Epoch 51/100\n",
            "73/73 [==============================] - 261s 4s/step - loss: 18.0178 - accuracy: 0.2161 - val_loss: 17.5511 - val_accuracy: 0.2700\n",
            "Epoch 52/100\n",
            "73/73 [==============================] - 261s 4s/step - loss: 17.9718 - accuracy: 0.2196 - val_loss: 17.5229 - val_accuracy: 0.2704\n",
            "Epoch 53/100\n",
            "73/73 [==============================] - 261s 4s/step - loss: 17.9171 - accuracy: 0.2197 - val_loss: 17.4873 - val_accuracy: 0.2691\n",
            "Epoch 54/100\n",
            "73/73 [==============================] - 261s 4s/step - loss: 17.8684 - accuracy: 0.2140 - val_loss: 17.4486 - val_accuracy: 0.2700\n",
            "Epoch 55/100\n",
            "73/73 [==============================] - 260s 4s/step - loss: 17.8241 - accuracy: 0.2221 - val_loss: 17.3927 - val_accuracy: 0.2700\n",
            "Epoch 56/100\n",
            "73/73 [==============================] - 224s 3s/step - loss: 17.7668 - accuracy: 0.2247 - val_loss: 17.3260 - val_accuracy: 0.2717\n",
            "Epoch 57/100\n",
            "73/73 [==============================] - 261s 4s/step - loss: 17.7512 - accuracy: 0.2233 - val_loss: 17.2846 - val_accuracy: 0.2678\n",
            "Epoch 58/100\n",
            "73/73 [==============================] - 224s 3s/step - loss: 17.6612 - accuracy: 0.2254 - val_loss: 17.2544 - val_accuracy: 0.2700\n",
            "Epoch 59/100\n",
            "73/73 [==============================] - 217s 3s/step - loss: 17.6741 - accuracy: 0.2291 - val_loss: 17.2569 - val_accuracy: 0.2674\n",
            "Epoch 60/100\n",
            "73/73 [==============================] - 254s 3s/step - loss: 17.6242 - accuracy: 0.2280 - val_loss: 17.2013 - val_accuracy: 0.2682\n",
            "Epoch 61/100\n",
            "73/73 [==============================] - 217s 3s/step - loss: 17.5795 - accuracy: 0.2278 - val_loss: 17.1050 - val_accuracy: 0.2678\n",
            "Epoch 62/100\n",
            "73/73 [==============================] - 217s 3s/step - loss: 17.5290 - accuracy: 0.2250 - val_loss: 17.0677 - val_accuracy: 0.2691\n",
            "Epoch 63/100\n",
            "73/73 [==============================] - 217s 3s/step - loss: 17.4714 - accuracy: 0.2340 - val_loss: 17.0602 - val_accuracy: 0.2691\n",
            "Epoch 64/100\n",
            "73/73 [==============================] - 256s 4s/step - loss: 17.4290 - accuracy: 0.2323 - val_loss: 16.9860 - val_accuracy: 0.2704\n",
            "Epoch 65/100\n",
            "73/73 [==============================] - 258s 4s/step - loss: 17.4030 - accuracy: 0.2326 - val_loss: 16.9497 - val_accuracy: 0.2700\n",
            "Epoch 66/100\n",
            "73/73 [==============================] - 216s 3s/step - loss: 17.3404 - accuracy: 0.2359 - val_loss: 16.8560 - val_accuracy: 0.2704\n",
            "Epoch 67/100\n",
            "73/73 [==============================] - 216s 3s/step - loss: 17.3504 - accuracy: 0.2386 - val_loss: 16.9193 - val_accuracy: 0.2682\n",
            "Epoch 68/100\n",
            "73/73 [==============================] - 254s 3s/step - loss: 17.2581 - accuracy: 0.2380 - val_loss: 16.7860 - val_accuracy: 0.2700\n",
            "Epoch 69/100\n",
            "73/73 [==============================] - 256s 4s/step - loss: 17.2319 - accuracy: 0.2395 - val_loss: 16.7366 - val_accuracy: 0.2678\n",
            "Epoch 70/100\n",
            "73/73 [==============================] - 253s 3s/step - loss: 17.2098 - accuracy: 0.2414 - val_loss: 16.7270 - val_accuracy: 0.2687\n",
            "Epoch 71/100\n",
            "73/73 [==============================] - 253s 3s/step - loss: 17.1346 - accuracy: 0.2381 - val_loss: 16.6280 - val_accuracy: 0.2708\n",
            "Epoch 72/100\n",
            "73/73 [==============================] - 255s 4s/step - loss: 17.1006 - accuracy: 0.2411 - val_loss: 16.6578 - val_accuracy: 0.2704\n",
            "Epoch 73/100\n",
            "73/73 [==============================] - 256s 4s/step - loss: 17.0607 - accuracy: 0.2433 - val_loss: 16.6014 - val_accuracy: 0.2687\n",
            "Epoch 74/100\n",
            "73/73 [==============================] - 219s 3s/step - loss: 17.0334 - accuracy: 0.2438 - val_loss: 16.5413 - val_accuracy: 0.2708\n",
            "Epoch 75/100\n",
            "73/73 [==============================] - 221s 3s/step - loss: 16.9988 - accuracy: 0.2434 - val_loss: 16.5083 - val_accuracy: 0.2713\n",
            "Epoch 76/100\n",
            "73/73 [==============================] - 220s 3s/step - loss: 16.9261 - accuracy: 0.2472 - val_loss: 16.4969 - val_accuracy: 0.2695\n",
            "Epoch 77/100\n",
            "73/73 [==============================] - 220s 3s/step - loss: 16.8895 - accuracy: 0.2463 - val_loss: 16.4310 - val_accuracy: 0.2704\n",
            "Epoch 78/100\n",
            "73/73 [==============================] - 257s 4s/step - loss: 16.8743 - accuracy: 0.2447 - val_loss: 16.4248 - val_accuracy: 0.2700\n",
            "Epoch 79/100\n",
            "73/73 [==============================] - 217s 3s/step - loss: 16.8674 - accuracy: 0.2509 - val_loss: 16.3603 - val_accuracy: 0.2691\n",
            "Epoch 80/100\n",
            "73/73 [==============================] - 255s 4s/step - loss: 16.8088 - accuracy: 0.2486 - val_loss: 16.3060 - val_accuracy: 0.2695\n",
            "Epoch 81/100\n",
            "73/73 [==============================] - 256s 4s/step - loss: 16.7420 - accuracy: 0.2474 - val_loss: 16.3221 - val_accuracy: 0.2691\n",
            "Epoch 82/100\n",
            "73/73 [==============================] - 216s 3s/step - loss: 16.7180 - accuracy: 0.2515 - val_loss: 16.2428 - val_accuracy: 0.2695\n",
            "Epoch 83/100\n",
            "73/73 [==============================] - 216s 3s/step - loss: 16.6953 - accuracy: 0.2521 - val_loss: 16.2139 - val_accuracy: 0.2691\n",
            "Epoch 84/100\n",
            "73/73 [==============================] - 255s 4s/step - loss: 16.6369 - accuracy: 0.2522 - val_loss: 16.2495 - val_accuracy: 0.2678\n",
            "Epoch 85/100\n",
            "73/73 [==============================] - 254s 3s/step - loss: 16.5938 - accuracy: 0.2507 - val_loss: 16.0910 - val_accuracy: 0.2713\n",
            "Epoch 86/100\n",
            "73/73 [==============================] - 214s 3s/step - loss: 16.5499 - accuracy: 0.2545 - val_loss: 16.1053 - val_accuracy: 0.2708\n",
            "Epoch 87/100\n",
            "73/73 [==============================] - 254s 3s/step - loss: 16.5413 - accuracy: 0.2535 - val_loss: 16.0923 - val_accuracy: 0.2704\n",
            "Epoch 88/100\n",
            "73/73 [==============================] - 256s 4s/step - loss: 16.4667 - accuracy: 0.2551 - val_loss: 15.9987 - val_accuracy: 0.2687\n",
            "Epoch 89/100\n",
            "73/73 [==============================] - 218s 3s/step - loss: 16.4680 - accuracy: 0.2577 - val_loss: 15.9963 - val_accuracy: 0.2687\n",
            "Epoch 90/100\n",
            "73/73 [==============================] - 218s 3s/step - loss: 16.4147 - accuracy: 0.2571 - val_loss: 15.9301 - val_accuracy: 0.2708\n",
            "Epoch 91/100\n",
            "73/73 [==============================] - 217s 3s/step - loss: 16.3707 - accuracy: 0.2554 - val_loss: 15.8894 - val_accuracy: 0.2691\n",
            "Epoch 92/100\n",
            "73/73 [==============================] - 216s 3s/step - loss: 16.3250 - accuracy: 0.2571 - val_loss: 15.8254 - val_accuracy: 0.2691\n",
            "Epoch 93/100\n",
            "73/73 [==============================] - 253s 3s/step - loss: 16.3033 - accuracy: 0.2576 - val_loss: 15.7761 - val_accuracy: 0.2717\n",
            "Epoch 94/100\n",
            "73/73 [==============================] - 220s 3s/step - loss: 16.2618 - accuracy: 0.2561 - val_loss: 15.8162 - val_accuracy: 0.2682\n",
            "Epoch 95/100\n",
            "73/73 [==============================] - 220s 3s/step - loss: 16.2256 - accuracy: 0.2613 - val_loss: 15.7685 - val_accuracy: 0.2700\n",
            "Epoch 96/100\n",
            "73/73 [==============================] - 256s 4s/step - loss: 16.1973 - accuracy: 0.2642 - val_loss: 15.7252 - val_accuracy: 0.2708\n",
            "Epoch 97/100\n",
            "73/73 [==============================] - 222s 3s/step - loss: 16.1305 - accuracy: 0.2632 - val_loss: 15.6634 - val_accuracy: 0.2704\n",
            "Epoch 98/100\n",
            "73/73 [==============================] - 220s 3s/step - loss: 16.0848 - accuracy: 0.2614 - val_loss: 15.6425 - val_accuracy: 0.2674\n",
            "Epoch 99/100\n",
            "73/73 [==============================] - 259s 4s/step - loss: 16.0702 - accuracy: 0.2635 - val_loss: 15.5829 - val_accuracy: 0.2708\n",
            "Epoch 100/100\n",
            "73/73 [==============================] - 225s 3s/step - loss: 16.0487 - accuracy: 0.2632 - val_loss: 15.5931 - val_accuracy: 0.2700\n"
          ]
        }
      ],
      "source": [
        " #AFTER COMPILING THE MODEL, THE MODEL IS TRAINED BELOW\n",
        "callbacks = [\n",
        "    # tf.keras.callbacks.EarlyStopping(patience=10, restore_best_weights=True,),\n",
        "    tf.keras.callbacks.TensorBoard(log_dir='./logs/VGGlogs1' , histogram_freq=1),\n",
        "    # tf.keras.callbacks.ReduceLROnPlateau(monitor=\"val_loss\", factor=0.1, patience=3, verbose=0, min_delta=0.0001, min_lr=0, ),\n",
        "    \n",
        "]\n",
        "STEP_SIZE_TRAIN = train_generator.n//train_generator.batch_size\n",
        "STEP_SIZE_VALID = valid_generator.n//valid_generator.batch_size\n",
        "STEP_SIZE_TEST = test_generator.n//test_generator.batch_size\n",
        "\n",
        "history = model1.fit_generator(generator=train_generator, steps_per_epoch=STEP_SIZE_TRAIN,\n",
        "                    validation_data=valid_generator,  validation_steps=STEP_SIZE_VALID,\n",
        "                    epochs=100, verbose=1)"
      ]
    },
    {
      "cell_type": "code",
      "execution_count": null,
      "metadata": {
        "id": "NT-QrhpD3yWV"
      },
      "outputs": [],
      "source": [
        "model1.save(\"models/VGG-model1.h5\")"
      ]
    },
    {
      "cell_type": "code",
      "execution_count": null,
      "metadata": {
        "id": "wJwhrO9kpykx",
        "colab": {
          "base_uri": "https://localhost:8080/"
        },
        "outputId": "d40aca7a-3d44-4f5c-b95a-ffe68432b1ab"
      },
      "outputs": [
        {
          "output_type": "stream",
          "name": "stderr",
          "text": [
            "/usr/local/lib/python3.7/dist-packages/ipykernel_launcher.py:2: UserWarning: `Model.predict_generator` is deprecated and will be removed in a future version. Please use `Model.predict`, which supports generators.\n",
            "  \n"
          ]
        }
      ],
      "source": [
        "model1 = keras.models.load_model(\"models/VGG-model1.h5\", compile=False)\n",
        "prob1 = model1.predict_generator(test_generator)"
      ]
    },
    {
      "cell_type": "code",
      "source": [
        "roc_auc_score(test_label[:, 0], prob1[:, 0])"
      ],
      "metadata": {
        "colab": {
          "base_uri": "https://localhost:8080/"
        },
        "id": "tQyprX8hEXCE",
        "outputId": "2283602a-66b2-4a53-cc69-4faa7b9ec5b8"
      },
      "execution_count": null,
      "outputs": [
        {
          "output_type": "execute_result",
          "data": {
            "text/plain": [
              "0.4406138823013611"
            ]
          },
          "metadata": {},
          "execution_count": 25
        }
      ]
    },
    {
      "cell_type": "code",
      "source": [
        "roc_auc_score(test_label[:, 1], prob1[:, 1])"
      ],
      "metadata": {
        "colab": {
          "base_uri": "https://localhost:8080/"
        },
        "id": "GTYgrZbqEW-K",
        "outputId": "4cfcbfad-9bcf-44ee-fa9d-f6d2f95c8ac0"
      },
      "execution_count": null,
      "outputs": [
        {
          "output_type": "execute_result",
          "data": {
            "text/plain": [
              "0.613456808343172"
            ]
          },
          "metadata": {},
          "execution_count": 26
        }
      ]
    },
    {
      "cell_type": "code",
      "source": [
        "roc_auc_score(test_label[:, 2], prob1[:, 2])"
      ],
      "metadata": {
        "colab": {
          "base_uri": "https://localhost:8080/"
        },
        "id": "dxvuQ76HEW6b",
        "outputId": "24c0c3fa-5d9f-4b46-a828-698099754734"
      },
      "execution_count": null,
      "outputs": [
        {
          "output_type": "execute_result",
          "data": {
            "text/plain": [
              "0.40933806426489006"
            ]
          },
          "metadata": {},
          "execution_count": 27
        }
      ]
    },
    {
      "cell_type": "code",
      "execution_count": null,
      "metadata": {
        "id": "jPG6ZcIASwMQ",
        "colab": {
          "base_uri": "https://localhost:8080/"
        },
        "outputId": "6bfae28c-e21f-433d-ff9a-37b44700f0e4"
      },
      "outputs": [
        {
          "output_type": "execute_result",
          "data": {
            "text/plain": [
              "0.5225354516793382"
            ]
          },
          "metadata": {},
          "execution_count": 28
        }
      ],
      "source": [
        "roc_auc_score(test_label[:, 3], prob1[:, 3])"
      ]
    },
    {
      "cell_type": "code",
      "execution_count": null,
      "metadata": {
        "id": "1lDdIWgyTDtS"
      },
      "outputs": [],
      "source": [
        ""
      ]
    },
    {
      "cell_type": "code",
      "execution_count": null,
      "metadata": {
        "id": "TG1s94swTDa1"
      },
      "outputs": [],
      "source": [
        ""
      ]
    }
  ],
  "metadata": {
    "accelerator": "GPU",
    "colab": {
      "collapsed_sections": [],
      "name": "VGGNet.ipynb",
      "provenance": [],
      "include_colab_link": true
    },
    "kernelspec": {
      "display_name": "Python 3",
      "name": "python3"
    },
    "language_info": {
      "name": "python"
    }
  },
  "nbformat": 4,
  "nbformat_minor": 0
}